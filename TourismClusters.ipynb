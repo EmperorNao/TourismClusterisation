{
  "nbformat": 4,
  "nbformat_minor": 0,
  "metadata": {
    "colab": {
      "name": "TourismClusters.ipynb",
      "provenance": [],
      "collapsed_sections": [],
      "authorship_tag": "ABX9TyOnK2We0FFMYOICUYf5xDPX"
    },
    "kernelspec": {
      "name": "python3",
      "display_name": "Python 3"
    },
    "language_info": {
      "name": "python"
    }
  },
  "cells": [
    {
      "cell_type": "code",
      "metadata": {
        "id": "19fhJQ9OvV-J"
      },
      "source": [
        "import pandas as pd\n",
        "import numpy as np\n",
        "import matplotlib.pyplot as plt\n",
        "\n",
        "from sklearn.cluster import KMeans, SpectralClustering, Birch\n",
        "from sklearn.decomposition import PCA\n",
        "\n",
        "from sklearn.preprocessing import StandardScaler\n",
        "import matplotlib.image as mpimg"
      ],
      "execution_count": 450,
      "outputs": []
    },
    {
      "cell_type": "code",
      "metadata": {
        "id": "nkLqOzP4imId"
      },
      "source": [
        "seed = 42"
      ],
      "execution_count": 388,
      "outputs": []
    },
    {
      "cell_type": "code",
      "metadata": {
        "id": "sTHxiv96vJI9"
      },
      "source": [
        "age = pd.read_excel(\"Ages.xlsx\", skiprows = 6)\n",
        "sex = pd.read_excel(\"Sex.xlsx\", skiprows = 6)\n",
        "interests = pd.read_excel(\"Interests.xlsx\", skiprows = 6)\n",
        "pages = pd.read_excel(\"PagesTranslated.xlsx\", skiprows = 0)\n",
        "places = pd.read_excel(\"Places.xlsx\", skiprows = 6)\n",
        "requests = pd.read_excel(\"Requests.xlsx\", skiprows = 6)"
      ],
      "execution_count": 324,
      "outputs": []
    },
    {
      "cell_type": "code",
      "metadata": {
        "id": "YHr93DzbDAzZ"
      },
      "source": [
        "pages['Количество мужчин'] = pages['Визиты'] * pages['Доля мужчин']\n",
        "pages['Количество женщин'] = pages['Визиты'] * pages['Доля женщин']\n",
        "pages['Количество до 18'] = pages['Менее 18 лет'] * pages['Визиты']\n",
        "pages['Количество 18-24'] = pages['18‑24 лет'] * pages['Визиты']\n",
        "pages['Количество 25-34'] = pages['25‑34 лет'] * pages['Визиты']\n",
        "pages['Количество 35-44'] = pages['35‑45 лет'] * pages['Визиты']\n",
        "pages['Количество 45-55'] = pages['45‑55 лет'] * pages['Визиты']"
      ],
      "execution_count": 326,
      "outputs": []
    },
    {
      "cell_type": "code",
      "metadata": {
        "id": "LsMNU5y1GfOW"
      },
      "source": [
        "#x_columns = ['Количество мужчин', 'Количество женщин', 'Количество до 18', 'Количество 18-24', 'Количество 25-34', 'Количество 35-44', 'Количество 45-55']\n",
        "x_columns = ['Доля мужчин', 'Доля женщин', 'Менее 18 лет', '18‑24 лет', '25‑34 лет', '35‑45 лет', '45‑55 лет']"
      ],
      "execution_count": 367,
      "outputs": []
    },
    {
      "cell_type": "code",
      "metadata": {
        "id": "L8fvS1P_dix8"
      },
      "source": [
        "def get_color(c):\n",
        "    if c == 0:\n",
        "        return \"green\"\n",
        "    elif c == 1:\n",
        "        return \"blue\"\n",
        "    elif c == 2:\n",
        "        return \"red\"\n",
        "    elif c == 3:\n",
        "        return \"yellow\"\n",
        "    elif c == 4:\n",
        "        return \"pink\"\n",
        "    else:\n",
        "        return \"cyan\""
      ],
      "execution_count": 418,
      "outputs": []
    },
    {
      "cell_type": "code",
      "metadata": {
        "id": "khh9NoCGdfrm"
      },
      "source": [
        "def plot(n, x, y, title = None):\n",
        "\n",
        "    #for i, txt in enumerate(n):\n",
        "        #ax.annotate(txt, (compressed_x[i][0], compressed_x[i][0]), color=get_color(y_pred[i]))\n",
        "    plt.figure(figsize=(12, 12))\n",
        "    plt.title(title)\n",
        "    plt.scatter(x[:, 0], x[:, 1], color = [get_color(y[i]) for i in range(len(n))])\n",
        "    plt.show()"
      ],
      "execution_count": 412,
      "outputs": []
    },
    {
      "cell_type": "code",
      "metadata": {
        "id": "BbOHh8_KpVgA"
      },
      "source": [
        "def plot_subplots(n, x, y, columns, name):\n",
        "\n",
        "    fig, axes = plt.subplots(x.shape[1] - 1, x.shape[1] - 1)\n",
        "    fig.set_size_inches(49, 49)\n",
        "\n",
        "    for i in range(x.shape[1]):\n",
        "        for j in range(i + 1, x.shape[1]):\n",
        "\n",
        "            title =  columns[i] + \" — \" + columns[j]\n",
        "            axes[i][j - 1].set_title(title)\n",
        "\n",
        "            x_ = np.vstack([x[:, i], x[:, j]]).T\n",
        "            axes[i][j - 1].scatter(x_[:, 0], x_[:, 1], color = [get_color(y[i]) for i in range(len(n))])\n",
        "\n",
        "    plt.savefig(name)"
      ],
      "execution_count": 447,
      "outputs": []
    },
    {
      "cell_type": "markdown",
      "metadata": {
        "id": "TfFMcdqQem9l"
      },
      "source": [
        "DATA"
      ]
    },
    {
      "cell_type": "code",
      "metadata": {
        "id": "dRY8nB_senjY"
      },
      "source": [
        "x = pages[x_columns].to_numpy()"
      ],
      "execution_count": 385,
      "outputs": []
    },
    {
      "cell_type": "markdown",
      "metadata": {
        "id": "leiv8yGMfYcg"
      },
      "source": [
        "CLUSTERIZATION"
      ]
    },
    {
      "cell_type": "code",
      "metadata": {
        "colab": {
          "base_uri": "https://localhost:8080/"
        },
        "id": "Aw-iIHXCfaCV",
        "outputId": "44c020ce-e267-4ab4-eefb-3044a71f70c5"
      },
      "source": [
        "n_clusters = 3\n",
        "cls = SpectralClustering(n_clusters=n_clusters, n_init=10, random_state = seed)\n",
        "labels = cls.fit_predict(x)\n",
        "\n",
        "\n",
        "print(len(labels))\n",
        "for cluster in range(n_clusters):\n",
        "    print(f\"{cluster + 1}:\", len(labels[labels == cluster]))"
      ],
      "execution_count": 389,
      "outputs": [
        {
          "output_type": "stream",
          "name": "stdout",
          "text": [
            "5582\n",
            "1: 2479\n",
            "2: 1031\n",
            "3: 2072\n"
          ]
        }
      ]
    },
    {
      "cell_type": "code",
      "metadata": {
        "colab": {
          "base_uri": "https://localhost:8080/"
        },
        "id": "xGSyk7Tnjti3",
        "outputId": "c4e2959e-6d5e-44b8-c371-bf7f6d508bce"
      },
      "source": [
        "np.vstack([x[:, 0], x[:, 1]]).T.shape"
      ],
      "execution_count": 401,
      "outputs": [
        {
          "output_type": "execute_result",
          "data": {
            "text/plain": [
              "(5582, 2)"
            ]
          },
          "metadata": {},
          "execution_count": 401
        }
      ]
    },
    {
      "cell_type": "code",
      "metadata": {
        "id": "wsMR1j5_qWPq"
      },
      "source": [
        "plot_subplots(pages['Перевод'], x, labels, x_columns, \"Clusters.png\")"
      ],
      "execution_count": null,
      "outputs": []
    },
    {
      "cell_type": "code",
      "metadata": {
        "id": "wz5lmGVntdV0"
      },
      "source": [
        "img = mpimg.imread('Clusters.png')\n",
        "plt.figure(figsize = (49, 49))\n",
        "plt.imshow(img)"
      ],
      "execution_count": null,
      "outputs": []
    },
    {
      "cell_type": "code",
      "metadata": {
        "id": "zHoIFf8ziEXM"
      },
      "source": [
        "for i in range(x.shape[1]):\n",
        "    for j in range(i + 1, x.shape[1]):\n",
        "        plot(pages['Перевод'], np.vstack([x[:, i], x[:, j]]).T, labels, \n",
        "             title = x_columns[i] + \" — \" + x_columns[j])"
      ],
      "execution_count": null,
      "outputs": []
    },
    {
      "cell_type": "markdown",
      "metadata": {
        "id": "mIEmgYZJh_Kv"
      },
      "source": [
        "FIND CENTERS"
      ]
    },
    {
      "cell_type": "code",
      "metadata": {
        "id": "at2To5n9VYTQ"
      },
      "source": [
        "from sklearn.metrics import pairwise_distances_argmin_min"
      ],
      "execution_count": 415,
      "outputs": []
    },
    {
      "cell_type": "code",
      "metadata": {
        "id": "GSYqVOMIVCr7"
      },
      "source": [
        "centers = clusters.cluster_centers_\n",
        "closest, _ = pairwise_distances_argmin_min(clusters.cluster_centers_, test_pages)"
      ],
      "execution_count": 416,
      "outputs": []
    },
    {
      "cell_type": "code",
      "metadata": {
        "colab": {
          "base_uri": "https://localhost:8080/"
        },
        "id": "uNVggiEeVddz",
        "outputId": "8d96731b-59a9-40d9-959f-ba986c52e183"
      },
      "source": [
        "for index in closest:\n",
        "    print(pages.iloc[index]['Перевод'], pages.iloc[index]['Количество мужчин'], pages.iloc[index]['Количество женщин'])"
      ],
      "execution_count": 417,
      "outputs": [
        {
          "output_type": "stream",
          "name": "stdout",
          "text": [
            "выставка роковая встреча винсент ван гог и поль гоген 42.10280373831775 222.89719626168224\n",
            "nan 277.59692898272556 414.40307101727444\n"
          ]
        }
      ]
    }
  ]
}